{
 "cells": [
  {
   "cell_type": "code",
   "execution_count": 1,
   "metadata": {},
   "outputs": [],
   "source": [
    "import pandas as pd"
   ]
  },
  {
   "cell_type": "code",
   "execution_count": 2,
   "metadata": {},
   "outputs": [],
   "source": [
    "dataset = pd.read_csv('moviedataset.csv' , encoding='cp437')"
   ]
  },
  {
   "cell_type": "code",
   "execution_count": 3,
   "metadata": {},
   "outputs": [
    {
     "data": {
      "text/html": [
       "<div>\n",
       "<style scoped>\n",
       "    .dataframe tbody tr th:only-of-type {\n",
       "        vertical-align: middle;\n",
       "    }\n",
       "\n",
       "    .dataframe tbody tr th {\n",
       "        vertical-align: top;\n",
       "    }\n",
       "\n",
       "    .dataframe thead th {\n",
       "        text-align: right;\n",
       "    }\n",
       "</style>\n",
       "<table border=\"1\" class=\"dataframe\">\n",
       "  <thead>\n",
       "    <tr style=\"text-align: right;\">\n",
       "      <th></th>\n",
       "      <th>Title</th>\n",
       "      <th>Genre</th>\n",
       "      <th>Director</th>\n",
       "      <th>Actors</th>\n",
       "      <th>Plot</th>\n",
       "    </tr>\n",
       "  </thead>\n",
       "  <tbody>\n",
       "    <tr>\n",
       "      <th>245</th>\n",
       "      <td>The Lost Weekend</td>\n",
       "      <td>Drama, Film-Noir</td>\n",
       "      <td>Billy Wilder</td>\n",
       "      <td>Ray Milland, Jane Wyman, Phillip Terry, Howard...</td>\n",
       "      <td>The desperate life of a chronic alcoholic is f...</td>\n",
       "    </tr>\n",
       "    <tr>\n",
       "      <th>246</th>\n",
       "      <td>Short Term 12</td>\n",
       "      <td>Drama</td>\n",
       "      <td>Destin Daniel Cretton</td>\n",
       "      <td>Brie Larson, John Gallagher Jr., Stephanie Bea...</td>\n",
       "      <td>A 20-something supervising staff member of a r...</td>\n",
       "    </tr>\n",
       "    <tr>\n",
       "      <th>247</th>\n",
       "      <td>His Girl Friday</td>\n",
       "      <td>Comedy, Drama, Romance</td>\n",
       "      <td>Howard Hawks</td>\n",
       "      <td>Cary Grant, Rosalind Russell, Ralph Bellamy, G...</td>\n",
       "      <td>A newspaper editor uses every trick in the boo...</td>\n",
       "    </tr>\n",
       "    <tr>\n",
       "      <th>248</th>\n",
       "      <td>The Straight Story</td>\n",
       "      <td>Biography, Drama</td>\n",
       "      <td>David Lynch</td>\n",
       "      <td>Sissy Spacek, Jane Galloway Heitz, Joseph A. C...</td>\n",
       "      <td>An old man makes a long journey by lawn-mover ...</td>\n",
       "    </tr>\n",
       "    <tr>\n",
       "      <th>249</th>\n",
       "      <td>Slumdog Millionaire</td>\n",
       "      <td>Drama</td>\n",
       "      <td>Danny Boyle, Loveleen Tandan</td>\n",
       "      <td>Dev Patel, Saurabh Shukla, Anil Kapoor, Raj Zu...</td>\n",
       "      <td>A Mumbai teen reflects on his upbringing in th...</td>\n",
       "    </tr>\n",
       "  </tbody>\n",
       "</table>\n",
       "</div>"
      ],
      "text/plain": [
       "                   Title                   Genre  \\\n",
       "245     The Lost Weekend        Drama, Film-Noir   \n",
       "246        Short Term 12                   Drama   \n",
       "247      His Girl Friday  Comedy, Drama, Romance   \n",
       "248   The Straight Story        Biography, Drama   \n",
       "249  Slumdog Millionaire                   Drama   \n",
       "\n",
       "                         Director  \\\n",
       "245                  Billy Wilder   \n",
       "246         Destin Daniel Cretton   \n",
       "247                  Howard Hawks   \n",
       "248                   David Lynch   \n",
       "249  Danny Boyle, Loveleen Tandan   \n",
       "\n",
       "                                                Actors  \\\n",
       "245  Ray Milland, Jane Wyman, Phillip Terry, Howard...   \n",
       "246  Brie Larson, John Gallagher Jr., Stephanie Bea...   \n",
       "247  Cary Grant, Rosalind Russell, Ralph Bellamy, G...   \n",
       "248  Sissy Spacek, Jane Galloway Heitz, Joseph A. C...   \n",
       "249  Dev Patel, Saurabh Shukla, Anil Kapoor, Raj Zu...   \n",
       "\n",
       "                                                  Plot  \n",
       "245  The desperate life of a chronic alcoholic is f...  \n",
       "246  A 20-something supervising staff member of a r...  \n",
       "247  A newspaper editor uses every trick in the boo...  \n",
       "248  An old man makes a long journey by lawn-mover ...  \n",
       "249  A Mumbai teen reflects on his upbringing in th...  "
      ]
     },
     "execution_count": 3,
     "metadata": {},
     "output_type": "execute_result"
    }
   ],
   "source": [
    "dataset = dataset[['Title','Genre','Director','Actors','Plot']]\n",
    "dataset.tail()"
   ]
  },
  {
   "cell_type": "code",
   "execution_count": 4,
   "metadata": {},
   "outputs": [
    {
     "data": {
      "text/plain": [
       "'Crime, DramaFrancis Ford CoppolaMarlon Brando, Al Pacino, James Caan, Richard S. CastellanoThe aging patriarch of an organized crime dynasty transfers control of his clandestine empire to his reluctant son.'"
      ]
     },
     "execution_count": 4,
     "metadata": {},
     "output_type": "execute_result"
    }
   ],
   "source": [
    "row=dataset['Genre'][1]+dataset['Director'][1]+dataset['Actors'][1]+dataset['Plot'][1]\n",
    "row"
   ]
  },
  {
   "cell_type": "code",
   "execution_count": 7,
   "metadata": {},
   "outputs": [
    {
     "data": {
      "text/plain": [
       "'Crime  DramaFrancis Ford CoppolaMarlon Brando  Al Pacino  James Caan  Richard S  CastellanoThe aging patriarch of an organized crime dynasty transfers control of his clandestine empire to his reluctant son '"
      ]
     },
     "execution_count": 7,
     "metadata": {},
     "output_type": "execute_result"
    }
   ],
   "source": [
    "import re\n",
    "review = re.sub('[^a-zA-Z]',' ',row)\n",
    "review"
   ]
  },
  {
   "cell_type": "raw",
   "metadata": {},
   "source": []
  },
  {
   "cell_type": "code",
   "execution_count": 10,
   "metadata": {},
   "outputs": [],
   "source": [
    "review=review.lower()"
   ]
  },
  {
   "cell_type": "code",
   "execution_count": 12,
   "metadata": {},
   "outputs": [],
   "source": [
    "review\n",
    "review=review.split()"
   ]
  },
  {
   "cell_type": "code",
   "execution_count": 15,
   "metadata": {},
   "outputs": [
    {
     "name": "stdout",
     "output_type": "stream",
     "text": [
      "['crime', 'dramafr', 'ford', 'coppolamarlon', 'brando', 'al', 'pacino', 'jame', 'caan', 'richard', 's', 'castellanoth', 'age', 'patriarch', 'of', 'an', 'organ', 'crime', 'dynasti', 'transfer', 'control', 'of', 'hi', 'clandestin', 'empir', 'to', 'hi', 'reluct', 'son']\n"
     ]
    }
   ],
   "source": [
    "from nltk.stem.porter import PorterStemmer\n",
    "ps=PorterStemmer()\n",
    "review=[ps.stem(word) for word in review]\n",
    "print(review)"
   ]
  },
  {
   "cell_type": "code",
   "execution_count": 16,
   "metadata": {},
   "outputs": [],
   "source": [
    "from nltk.corpus import stopwords"
   ]
  },
  {
   "cell_type": "code",
   "execution_count": 20,
   "metadata": {},
   "outputs": [
    {
     "name": "stdout",
     "output_type": "stream",
     "text": [
      "['crime', 'dramafr', 'ford', 'coppolamarlon', 'brando', 'al', 'pacino', 'jame', 'caan', 'richard', 'castellanoth', 'age', 'patriarch', 'organ', 'crime', 'dynasti', 'transfer', 'control', 'hi', 'clandestin', 'empir', 'hi', 'reluct', 'son']\n"
     ]
    }
   ],
   "source": [
    "review=[ word for word in review if word not in set(stopwords.words('english'))]\n",
    "print(review)"
   ]
  },
  {
   "cell_type": "code",
   "execution_count": null,
   "metadata": {},
   "outputs": [],
   "source": []
  }
 ],
 "metadata": {
  "kernelspec": {
   "display_name": "Python 3",
   "language": "python",
   "name": "python3"
  },
  "language_info": {
   "codemirror_mode": {
    "name": "ipython",
    "version": 3
   },
   "file_extension": ".py",
   "mimetype": "text/x-python",
   "name": "python",
   "nbconvert_exporter": "python",
   "pygments_lexer": "ipython3",
   "version": "3.8.5"
  }
 },
 "nbformat": 4,
 "nbformat_minor": 4
}
